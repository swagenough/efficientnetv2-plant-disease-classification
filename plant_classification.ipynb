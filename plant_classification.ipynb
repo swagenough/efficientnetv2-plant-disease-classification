{
  "nbformat": 4,
  "nbformat_minor": 0,
  "metadata": {
    "colab": {
      "provenance": [],
      "gpuType": "T4",
      "authorship_tag": "ABX9TyPSXi/trC0sx8E2pwVanv1M"
    },
    "kernelspec": {
      "name": "python3",
      "display_name": "Python 3"
    },
    "language_info": {
      "name": "python"
    },
    "accelerator": "GPU"
  },
  "cells": [
    {
      "cell_type": "code",
      "source": [
        "import wandb\n",
        "from wandb.integration.keras import WandbMetricsLogger\n",
        "import os\n",
        "os.environ['WANDB_API_KEY'] = 'api-key-here'"
      ],
      "metadata": {
        "id": "8vpvDiAXcEAP"
      },
      "execution_count": null,
      "outputs": []
    },
    {
      "cell_type": "code",
      "source": [
        "import matplotlib.pyplot as plt\n",
        "from tensorflow.keras.preprocessing.image import ImageDataGenerator\n",
        "from tensorflow.keras.applications.efficientnet_v2 import preprocess_input\n",
        "from tensorflow.keras.callbacks import EarlyStopping, ModelCheckpoint"
      ],
      "metadata": {
        "id": "QTi69gmJar2H"
      },
      "execution_count": null,
      "outputs": []
    },
    {
      "cell_type": "code",
      "source": [
        "base_dir = '/content/plant_disease_data/PlantVillage/color'"
      ],
      "metadata": {
        "id": "gRjI6s8oaxzX"
      },
      "execution_count": null,
      "outputs": []
    },
    {
      "cell_type": "code",
      "source": [
        "img_size = 256\n",
        "batch_size = 32"
      ],
      "metadata": {
        "id": "bj51GhfNbDAX"
      },
      "execution_count": null,
      "outputs": []
    },
    {
      "cell_type": "code",
      "source": [
        "train_data_gen = ImageDataGenerator(\n",
        "    preprocessing_function=preprocess_input,\n",
        "    validation_split=0.2,\n",
        "    rotation_range=25,\n",
        "    width_shift_range=0.2,\n",
        "    height_shift_range=0.2,\n",
        "    shear_range=0.2,\n",
        "    zoom_range=0.3,\n",
        "    brightness_range=[0.8, 1.2],\n",
        "    horizontal_flip=True,\n",
        "    fill_mode='nearest'\n",
        ")"
      ],
      "metadata": {
        "id": "lKKBpVDXbEgH"
      },
      "execution_count": null,
      "outputs": []
    },
    {
      "cell_type": "code",
      "source": [
        "val_data_gen = ImageDataGenerator(\n",
        "    preprocessing_function=preprocess_input,\n",
        "    validation_split=0.2\n",
        ")"
      ],
      "metadata": {
        "id": "WSa1IUhn4L_6"
      },
      "execution_count": null,
      "outputs": []
    },
    {
      "cell_type": "code",
      "source": [
        "train_generator = train_data_gen.flow_from_directory(\n",
        "    base_dir,\n",
        "    target_size=(img_size, img_size),\n",
        "    batch_size=batch_size,\n",
        "    subset='training',\n",
        "    class_mode='categorical',\n",
        "    seed = 42,\n",
        "    shuffle = True\n",
        ")"
      ],
      "metadata": {
        "id": "qZzQLl7XbGuH",
        "collapsed": true
      },
      "execution_count": null,
      "outputs": []
    },
    {
      "cell_type": "code",
      "source": [
        "validation_generator = val_data_gen.flow_from_directory(\n",
        "    base_dir,\n",
        "    target_size=(img_size, img_size),\n",
        "    batch_size=batch_size,\n",
        "    subset='validation',\n",
        "    class_mode='categorical',\n",
        "    seed = 42,\n",
        "    shuffle = False\n",
        ")"
      ],
      "metadata": {
        "id": "TlZjZni7bIsX"
      },
      "execution_count": null,
      "outputs": []
    },
    {
      "cell_type": "code",
      "source": [
        "batch = next(train_generator)\n",
        "print(\"Input range:\", batch[0].min(), \"to\", batch[0].max())\n",
        "print(\"Number of classes:\", train_generator.num_classes)"
      ],
      "metadata": {
        "id": "C31JhnL24dfQ"
      },
      "execution_count": null,
      "outputs": []
    },
    {
      "cell_type": "code",
      "source": [
        "from tensorflow.keras import Sequential, models, layers, optimizers\n",
        "from tensorflow.keras.layers import Dropout, Dense, Flatten, BatchNormalization, GlobalAveragePooling2D\n",
        "from tensorflow.keras.applications import EfficientNetV2B0\n",
        "from tensorflow.keras.callbacks import EarlyStopping\n",
        "from tensorflow.keras.optimizers import AdamW"
      ],
      "metadata": {
        "id": "6nUcA_q2iVXY"
      },
      "execution_count": null,
      "outputs": []
    },
    {
      "cell_type": "code",
      "source": [
        "convolutional_base = EfficientNetV2B0(weights='imagenet', include_top=False, input_shape=(256,256,3))\n",
        "convolutional_base.summary()"
      ],
      "metadata": {
        "id": "5sh2nGm4iaQn"
      },
      "execution_count": null,
      "outputs": []
    },
    {
      "cell_type": "code",
      "source": [
        "num_of_classes = 38\n",
        "\n",
        "model = models.Sequential()\n",
        "\n",
        "model.add(convolutional_base)\n",
        "model.add(GlobalAveragePooling2D())\n",
        "model.add(Dropout(0.5))\n",
        "model.add(Dense(num_of_classes, activation='softmax'))\n",
        "\n",
        "model.summary()"
      ],
      "metadata": {
        "id": "r1A4sP6Bih23"
      },
      "execution_count": null,
      "outputs": []
    },
    {
      "cell_type": "code",
      "source": [
        "model.compile(\n",
        "    optimizer=AdamW(learning_rate=0.001, weight_decay=0.01),\n",
        "    loss='categorical_crossentropy',\n",
        "    metrics=['accuracy']\n",
        ")"
      ],
      "metadata": {
        "id": "LmPMK-inio_3"
      },
      "execution_count": null,
      "outputs": []
    },
    {
      "cell_type": "code",
      "source": [
        "wandb.init(\n",
        "    project=\"plant-disease-cnn\",\n",
        "    name=\"best-EfficientNet-epoch5-test\",\n",
        "    reinit=True\n",
        ")\n",
        "\n",
        "early_stop = EarlyStopping(\n",
        "    monitor='val_loss',\n",
        "    patience=5,\n",
        "    restore_best_weights=True,\n",
        "    verbose=1\n",
        ")\n",
        "\n",
        "checkpoint = ModelCheckpoint(\n",
        "    'best_model.keras',\n",
        "    monitor='val_loss',\n",
        "    save_best_only=True,\n",
        "    mode='min',\n",
        "    verbose=1\n",
        ")\n"
      ],
      "metadata": {
        "id": "Q6cfs7itrje_"
      },
      "execution_count": null,
      "outputs": []
    },
    {
      "cell_type": "code",
      "source": [
        "history = model.fit(\n",
        "    train_generator,\n",
        "    epochs=3,\n",
        "    validation_data=validation_generator,\n",
        "    callbacks=[WandbMetricsLogger(), early_stop, checkpoint],\n",
        ")"
      ],
      "metadata": {
        "id": "K_MyjLPQivKP"
      },
      "execution_count": null,
      "outputs": []
    },
    {
      "cell_type": "code",
      "source": [
        "val_loss, val_acc = model.evaluate(validation_generator, verbose=1)\n",
        "print(f\"\\nValidation Accuracy: {val_acc:.4f}\")\n",
        "print(f\"Validation Loss: {val_loss:.4f}\")"
      ],
      "metadata": {
        "id": "3rI7bogA-4-o"
      },
      "execution_count": null,
      "outputs": []
    },
    {
      "cell_type": "code",
      "source": [
        "plt.figure(figsize=(12, 5))\n",
        "\n",
        "plt.subplot(1, 2, 1)\n",
        "plt.plot(history.history['accuracy'], label='accuracy')\n",
        "plt.plot(history.history['val_accuracy'], label = 'val_accuracy')\n",
        "plt.xlabel('Epoch')\n",
        "plt.ylabel('Accuracy')\n",
        "plt.legend(['Train', 'Validation'], loc = 'upper left')\n",
        "\n",
        "plt.subplot(1, 2, 2)\n",
        "plt.plot(history.history['loss'], label='loss')\n",
        "plt.plot(history.history['val_loss'], label = 'val_loss')\n",
        "plt.xlabel('Epoch')\n",
        "plt.ylabel('Loss')\n",
        "plt.legend(['Train', 'Test'], loc = 'upper left')\n",
        "\n",
        "plt.show()"
      ],
      "metadata": {
        "id": "wRpbasnWkqff"
      },
      "execution_count": null,
      "outputs": []
    },
    {
      "cell_type": "code",
      "source": [
        "import os\n",
        "import numpy as np\n",
        "from PIL import Image\n",
        "import json\n",
        "\n",
        "def load_and_preprocess_image(image_path, target_size=(256, 256)):\n",
        "    img = Image.open(image_path).convert('RGB')\n",
        "    img = img.resize(target_size)\n",
        "    plt.imshow(img)\n",
        "    plt.axis('off')\n",
        "    plt.show()\n",
        "\n",
        "    img_array = np.array(img)\n",
        "    img_array = np.expand_dims(img_array, axis=0)\n",
        "    img_array = preprocess_input(img_array)\n",
        "    return img_array\n",
        "\n",
        "\n",
        "def predict_image_class(model, image_path, class_indices):\n",
        "  preprocessing_img = load_and_preprocess_image(image_path)\n",
        "  predictions = model.predict(preprocessing_img)\n",
        "  print(predictions.shape)   # should be (N, 38)\n",
        "  print(np.sum(predictions[0]))  # should be ~1.0 (since softmax)\n",
        "  predicted_class_index = np.argmax(predictions, axis=1)[0]\n",
        "  print(predicted_class_index)\n",
        "  predicted_class_label = class_indices[predicted_class_index]\n",
        "  return predicted_class_label\n"
      ],
      "metadata": {
        "id": "CzP_2V5k_D3J"
      },
      "execution_count": null,
      "outputs": []
    },
    {
      "cell_type": "code",
      "source": [
        "class_indices = {v: k for k, v in train_generator.class_indices.items()}"
      ],
      "metadata": {
        "id": "XVqEXZIX_tKt"
      },
      "execution_count": null,
      "outputs": []
    },
    {
      "cell_type": "code",
      "source": [
        "class_indices"
      ],
      "metadata": {
        "id": "ipB_InhJ_veV"
      },
      "execution_count": null,
      "outputs": []
    },
    {
      "cell_type": "code",
      "source": [
        "json.dump(class_indices, open('class_indices.json', 'w'))"
      ],
      "metadata": {
        "id": "vZuy_6M5_w8j"
      },
      "execution_count": null,
      "outputs": []
    },
    {
      "cell_type": "code",
      "source": [
        "image_path = '/content/plant_disease_data/PlantVillage/color/Corn_(maize)___Common_rust_/RS_Rust 1565.JPG'\n",
        "predicted_class_name = predict_image_class(model, image_path, class_indices)\n",
        "print(f'The predicted class is: {predicted_class_name}')"
      ],
      "metadata": {
        "id": "a6tGsz11_lCj"
      },
      "execution_count": null,
      "outputs": []
    },
    {
      "cell_type": "code",
      "source": [
        "model.export(\"EfficientnetV2B0_plant_disease_model\")"
      ],
      "metadata": {
        "id": "638Bl6C5NGPT"
      },
      "execution_count": null,
      "outputs": []
    },
    {
      "cell_type": "code",
      "source": [
        "import shutil\n",
        "\n",
        "#zips exported folder\n",
        "shutil.make_archive(\"/content/EfficientnetV2B0_plant_disease_model\", 'zip', \"/content/EfficientnetV2B0_plant_disease_model\")"
      ],
      "metadata": {
        "id": "N1FVdhuKNqxw"
      },
      "execution_count": null,
      "outputs": []
    },
    {
      "cell_type": "code",
      "source": [
        "model.save('plant_disease_model.keras')"
      ],
      "metadata": {
        "id": "3QXKzm19N5gR"
      },
      "execution_count": null,
      "outputs": []
    }
  ]
}